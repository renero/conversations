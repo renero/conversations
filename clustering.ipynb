{
 "cells": [
  {
   "cell_type": "markdown",
   "metadata": {},
   "source": [
    "# Clustering Conversations (LDA & Hierarchical Clustering)"
   ]
  },
  {
   "cell_type": "code",
   "execution_count": 391,
   "metadata": {},
   "outputs": [],
   "source": [
    "import gensim\n",
    "import itertools\n",
    "import io\n",
    "import matplotlib.pyplot as plt\n",
    "import numpy as np\n",
    "import os\n",
    "import re\n",
    "\n",
    "# My functions are here.\n",
    "import displayfuncs\n",
    "import iofuncs\n",
    "import filterfuncs\n",
    "\n",
    "from gensim import corpora, models\n",
    "from nltk.tokenize import RegexpTokenizer\n",
    "from nltk.corpus import stopwords\n",
    "from nltk.stem import SnowballStemmer\n",
    "from scipy.cluster.hierarchy import dendrogram, linkage, cophenet\n",
    "from scipy.spatial.distance import pdist\n",
    "from sys import setrecursionlimit\n",
    "\n",
    "# https://rstudio-pubs-static.s3.amazonaws.com/79360_850b2a69980c4488b1db95987a24867a.html\n",
    "# https://tedunderwood.com/2012/11/11/visualizing-topic-models/\n",
    "# https://joernhees.de/blog/2015/08/26/scipy-hierarchical-clustering-and-dendrogram-tutorial/\n",
    "\n",
    "# Take a look at:\n",
    "# https://rare-technologies.com/word2vec-tutorial/\n",
    "\n",
    "sys.setrecursionlimit(10000) # Dendogram failback solution"
   ]
  },
  {
   "cell_type": "markdown",
   "metadata": {},
   "source": [
    "## Extract conversations from data folders"
   ]
  },
  {
   "cell_type": "code",
   "execution_count": 394,
   "metadata": {
    "collapsed": true
   },
   "outputs": [],
   "source": [
    "# Generate the list of file documents to process, from the folders specified\n",
    "def get_datafiles_list(parent_dir = \"/Users/jrenero/OneDrive - Sanitas/DatosChats/\"):\n",
    "    datafolders = ['243861-1476443781']\n",
    "    #               '243861-1476691434','243861-1476698232','243861-1476698786',\n",
    "    #               '243861-1476691374','243861-1476691504','243861-1476698458','digital',\n",
    "    #               '243861-1476691412','243861-1476698142','243861-1476698730','digital_1']\n",
    "    datafiles = []\n",
    "    for folder in datafolders:\n",
    "        datafiles.extend(get_filepaths(parent_dir + folder))\n",
    "    return(datafiles)"
   ]
  },
  {
   "cell_type": "markdown",
   "metadata": {},
   "source": [
    "## Generate a separate file for each conversation"
   ]
  },
  {
   "cell_type": "code",
   "execution_count": 401,
   "metadata": {},
   "outputs": [
    {
     "name": "stdout",
     "output_type": "stream",
     "text": [
      "No files in datafiles list!\n"
     ]
    },
    {
     "data": {
      "text/plain": [
       "()"
      ]
     },
     "execution_count": 401,
     "metadata": {},
     "output_type": "execute_result"
    }
   ],
   "source": [
    "def generate_file_per_document(datafiles, output_dir = \"./corpus/\"):\n",
    "    # Generate one file per conversation inside each data file.\n",
    "    i = 0\n",
    "    l = len(datafiles)\n",
    "    if l is 0:\n",
    "        print(\"No files in datafiles list!\")\n",
    "        return()\n",
    "    printProgressBar(i, l)\n",
    "    for file in datafiles:\n",
    "        extract_conversations(output_dir, file)\n",
    "        i += 1\n",
    "        printProgressBar(i, l)\n",
    "\n",
    "datafiles = get_datafiles_list(parent_dir = \"/Users/jrenero/onedrive/DatosChats/\")\n",
    "generate_file_per_document(datafiles)"
   ]
  },
  {
   "cell_type": "markdown",
   "metadata": {},
   "source": [
    "## Process files and generate documents of words"
   ]
  },
  {
   "cell_type": "code",
   "execution_count": 402,
   "metadata": {},
   "outputs": [
    {
     "name": "stdout",
     "output_type": "stream",
     "text": [
      "Progress: |####################| 100.0% Complete\n"
     ]
    }
   ],
   "source": [
    "# Read all the files (documents) and put them into 'texts', filtering out \n",
    "# stems/words in the blacklist (badstems.txt)\n",
    "texts = []\n",
    "badstems_file = open('./badstems.txt','r')\n",
    "bad_stems = set(badstems_file.read().splitlines())\n",
    "badwords_file = open('./badwords.txt','r')\n",
    "bad_words = set(badwords_file.read().splitlines())\n",
    "\n",
    "documents = get_filepaths(\"./reduced_corpus/\")\n",
    "i = 0\n",
    "l = len(documents)\n",
    "printProgressBar(i, l)\n",
    "for file in documents:\n",
    "    tokens = extract_tokens(file)\n",
    "    stopped_tokens = remove_stopwords(tokens)\n",
    "    stems = extract_stems(stopped_tokens)\n",
    "    ok_words = list(set(stems) - bad_stems)\n",
    "    if len(ok_words) > 0:\n",
    "        texts.append(ok_words)\n",
    "    i += 1\n",
    "    printProgressBar(i, l)"
   ]
  },
  {
   "cell_type": "markdown",
   "metadata": {},
   "source": [
    "## Run LDA model over the entire corpus."
   ]
  },
  {
   "cell_type": "code",
   "execution_count": 370,
   "metadata": {},
   "outputs": [],
   "source": [
    "# Turn our tokenized documents into a id <-> term dictionary\n",
    "dictionary = corpora.Dictionary(texts)\n",
    "# ignore words that appear in less than 50 documents or more than 20% documents\n",
    "#dictionary.filter_extremes(no_below=50, no_above=0.2)\n",
    "\n",
    "# convert tokenized documents into a document-term matrix\n",
    "corpus = [dictionary.doc2bow(text) for text in texts]\n",
    "\n",
    "# generate LDA model\n",
    "n_topics = 10\n",
    "LDA = gensim.models.ldamulticore.LdaModel\n",
    "ldamodel = LDA(corpus, num_topics = n_topics, id2word = dictionary, passes=1)\n",
    "topics = ldamodel.print_topics(num_topics = n_topics, num_words=8)"
   ]
  },
  {
   "cell_type": "code",
   "execution_count": 371,
   "metadata": {
    "collapsed": true
   },
   "outputs": [],
   "source": [
    "def doc_stems(filename):\n",
    "    tokens = extract_stems(remove_stopwords(extract_tokens(filename)))\n",
    "    return(list(set(tokens) - bad_stems))\n",
    "\n",
    "def doc_words(filename):\n",
    "    tokens = remove_stopwords(extract_tokens(filename))\n",
    "    return(list(set(tokens) - bad_words))\n",
    "\n",
    "def print_topics(n):\n",
    "    for i in range(0,n):\n",
    "        contents = doc_words(documents[i])\n",
    "        if contents:\n",
    "            scores = ldamodel[dictionary.doc2bow(contents)]\n",
    "            max_score = max(scores, key=lambda item:item[1]) # Get the maximum score using a lambda\n",
    "            print(contents, \" -> Topic:\", max_score[0])\n",
    "            print(topics[max_score[0]][1])\n",
    "            print()\n",
    "\n",
    "#print_topics(10)"
   ]
  },
  {
   "cell_type": "markdown",
   "metadata": {},
   "source": [
    "# TF-IDF over the words on each document\n",
    "We need to consider only those representative words on each document"
   ]
  },
  {
   "cell_type": "code",
   "execution_count": 372,
   "metadata": {},
   "outputs": [],
   "source": [
    "import math\n",
    "from textblob import TextBlob as tb\n",
    "\n",
    "def tf(word, blob):\n",
    "    return blob.words.count(word) / len(blob.words)\n",
    "\n",
    "def n_containing(word, bloblist):\n",
    "    return sum(1 for blob in bloblist if word in blob.words)\n",
    "\n",
    "def idf(word, bloblist):\n",
    "    return math.log(len(bloblist) / (1 + n_containing(word, bloblist)))\n",
    "\n",
    "def tfidf(word, blob, bloblist):\n",
    "    return tf(word, blob) * idf(word, bloblist)"
   ]
  },
  {
   "cell_type": "markdown",
   "metadata": {},
   "source": [
    "### TextBlob structure\n",
    "\n",
    "Create a dictionary of documents, where each word is together with its score in TF-IDF"
   ]
  },
  {
   "cell_type": "code",
   "execution_count": 373,
   "metadata": {},
   "outputs": [
    {
     "data": {
      "text/plain": [
       "[('borr', 1.2919097607264802),\n",
       " ('dental', 0.5836064247124261),\n",
       " ('contrat', 0.3189546861988235),\n",
       " ('segur', 0.1725755571069285)]"
      ]
     },
     "execution_count": 373,
     "metadata": {},
     "output_type": "execute_result"
    }
   ],
   "source": [
    "# A TextBlob structure is needed to perform tf-idf.\n",
    "bloblist = [tb(\" \".join(doc)) for doc in texts]\n",
    "\n",
    "feature_docs = []\n",
    "for i, blob in enumerate(bloblist):\n",
    "    scores = {word: tfidf(word, blob, bloblist) for word in blob.words}\n",
    "    sorted_words = sorted(scores.items(), key=lambda x: x[1], reverse=True)\n",
    "    #print(\"Top words in document {}\".format(i + 1))\n",
    "    #for word, score in sorted_words[:10]:\n",
    "    #    print(\"\\tWord: {}, TF-IDF: {}\".format(word, round(score, 3)))\n",
    "    feature_docs.append(sorted_words)\n",
    "\n",
    "# Show an example for the first doc.\n",
    "feature_docs[3]"
   ]
  },
  {
   "cell_type": "markdown",
   "metadata": {},
   "source": [
    "I need to know the distribution of the TF-IDF scores."
   ]
  },
  {
   "cell_type": "code",
   "execution_count": 374,
   "metadata": {},
   "outputs": [
    {
     "data": {
      "image/png": "[encoded data removed]",
      "text/plain": [
       "<matplotlib.figure.Figure at 0x116ec6630>"
      ]
     },
     "metadata": {},
     "output_type": "display_data"
    }
   ],
   "source": [
    "tfs = []\n",
    "tfs = map((lambda doc: [round(x[1],2) for x in doc]), feature_docs)\n",
    "flattened = [val for sublist in tfs for val in sublist]\n",
    "plot_histogram(flattened, num_bins=100)"
   ]
  },
  {
   "cell_type": "markdown",
   "metadata": {},
   "source": [
    "### Weighting words, and picking up only relevant ones\n",
    "\n",
    "I need the reverse dictionary where each token is associated with its id. With it, I'll be able to encode the tokens found in the conversations with their codes in the dictionary.\n",
    "\n",
    "I build the vectors containing the list of codes on each conversation, filtering those with TF-IDF less than the value specified, or with tokens removed from the dictionary because they're no longer relevant."
   ]
  },
  {
   "cell_type": "code",
   "execution_count": 375,
   "metadata": {},
   "outputs": [],
   "source": [
    "informative_docs = map((lambda doc: list(filter((lambda word: word[1] > 0.1 and word[1] < 1.0), doc)))\n",
    "                       , feature_docs)\n",
    "reverse_dict = dictionary.token2id    \n",
    "\n",
    "def get_code(x): \n",
    "    \"\"\"\n",
    "    Obtain the code for each word on this document from the reverse_dictionary. \n",
    "    If the word is not found, the code assigned is -1\n",
    "    \"\"\"\n",
    "    y = reverse_dict.get(x[0]) \n",
    "    if y != None:\n",
    "        return(y) \n",
    "    else:\n",
    "        return(-1)\n",
    "\n",
    "# Build the vectors of IDs per document, removing those docs with less than 2 tokens.\n",
    "# every unmatched token in the dictionary is fileterd out.\n",
    "vectors = list(filter(\n",
    "    (lambda vector: len(vector) > 1)\n",
    "    ,map((lambda doc: list(filter((lambda token_id: token_id != -1), map(get_code, doc)))), informative_docs)\n",
    "))"
   ]
  },
  {
   "cell_type": "markdown",
   "metadata": {},
   "source": [
    "### What is the histogram of vector lengths?\n",
    "Distribution of number of relevant tokens in the conversations set?"
   ]
  },
  {
   "cell_type": "code",
   "execution_count": 376,
   "metadata": {},
   "outputs": [
    {
     "data": {
      "image/png": "[encoded data removed]",
      "text/plain": [
       "<matplotlib.figure.Figure at 0x118fdbc50>"
      ]
     },
     "metadata": {},
     "output_type": "display_data"
    }
   ],
   "source": [
    "lengths = list(map(len, vectors))\n",
    "plot_histogram(lengths)"
   ]
  },
  {
   "cell_type": "code",
   "execution_count": 377,
   "metadata": {},
   "outputs": [
    {
     "name": "stdout",
     "output_type": "stream",
     "text": [
      "Max length = 36\n"
     ]
    },
    {
     "data": {
      "text/plain": [
       "(309, 36)"
      ]
     },
     "execution_count": 377,
     "metadata": {},
     "output_type": "execute_result"
    }
   ],
   "source": [
    "max_length = max(lengths)\n",
    "print(\"Max length =\", max_length)\n",
    "\n",
    "def list2array(v, max_length):\n",
    "    np_array = np.full(max_length, -1)\n",
    "    l = min(max_length, len(v))\n",
    "    np_array[:l] = v[:l]\n",
    "    return (np_array)\n",
    "\n",
    "sparse_vectors = [list2array(x, max_length) for x in vectors]\n",
    "X = np.asmatrix(sparse_vectors)\n",
    "X.shape"
   ]
  },
  {
   "cell_type": "markdown",
   "metadata": {},
   "source": [
    "# Hierarchical Clustering\n",
    "\n",
    "This part deals with the hierarchical clustering of the words in the dictionary to see how different words tend to group topgether.\n",
    "\n",
    "https://joernhees.de/blog/2015/08/26/scipy-hierarchical-clustering-and-dendrogram-tutorial/\n",
    "\n",
    "This (very very briefly) compares (correlates) the actual pairwise distances of all your samples to those implied by the hierarchical clustering. The closer the value is to 1, the better the clustering preserves the original distances, which in our case is pretty close:"
   ]
  },
  {
   "cell_type": "code",
   "execution_count": 378,
   "metadata": {},
   "outputs": [
    {
     "data": {
      "text/plain": [
       "0.62882680708735927"
      ]
     },
     "execution_count": 378,
     "metadata": {},
     "output_type": "execute_result"
    }
   ],
   "source": [
    "# generate the linkage matrix\n",
    "#Z = linkage(X, method='ward'\n",
    "Z = linkage(X, metric='jaccard')\n",
    "c, coph_dists = cophenet(Z, pdist(X))\n",
    "c"
   ]
  },
  {
   "cell_type": "code",
   "execution_count": 379,
   "metadata": {},
   "outputs": [
    {
     "data": {
      "image/png": "[encoded data removed]",
      "text/plain": [
       "<matplotlib.figure.Figure at 0x119181588>"
      ]
     },
     "metadata": {},
     "output_type": "display_data"
    }
   ],
   "source": [
    "# calculate full dendrogram\n",
    "max_distance = 0.1\n",
    "\n",
    "plt.figure(figsize=(25, 10))\n",
    "fancy_dendrogram(\n",
    "    Z,\n",
    "    #truncate_mode='lastp',\n",
    "    #p=500,\n",
    "    leaf_rotation=90.,\n",
    "    leaf_font_size=8.,\n",
    "    show_contracted=True,\n",
    "    annotate_above=10,\n",
    "    #max_d=max_distance,  # plot a horizontal cut-off line\n",
    ")\n",
    "plt.show()"
   ]
  },
  {
   "cell_type": "code",
   "execution_count": 386,
   "metadata": {},
   "outputs": [
    {
     "name": "stdout",
     "output_type": "stream",
     "text": [
      "Num of clusters =  281\n"
     ]
    },
    {
     "data": {
      "image/png": "[encoded data removed]",
      "text/plain": [
       "<matplotlib.figure.Figure at 0x119ba0eb8>"
      ]
     },
     "metadata": {},
     "output_type": "display_data"
    }
   ],
   "source": [
    "from scipy.cluster.hierarchy import fcluster\n",
    "clusters = fcluster(Z, max_distance, criterion='distance')\n",
    "print(\"Num of clusters = \",len(set(clusters)))\n",
    "plot_histogram(clusters, num_bins=100, fig_width=15, fig_height=5)"
   ]
  },
  {
   "cell_type": "code",
   "execution_count": 381,
   "metadata": {},
   "outputs": [
    {
     "data": {
      "text/plain": [
       "array([ 54,  41,  41,  70, 147, 122, 121, 183,  74,  52, 208,  41,  71,\n",
       "        72, 217,  41, 165,  45,  73,  53, 199, 247, 270, 205, 108,  41,\n",
       "       218,  75,  13, 174,  23, 190,  50,  60, 256,  95,  41,  42, 257,\n",
       "       153, 191, 167, 238, 123, 192, 175, 124,  87, 219, 168,   5, 272,\n",
       "       248,  76,  56,  31,  21,  77, 113, 125,  37, 126, 220,  43, 235,\n",
       "       264,  22,  55,  14, 127, 136, 221,  24, 277,  57, 139, 222, 169,\n",
       "         7,  41, 170,  66, 281, 193, 265, 116, 239, 206, 128, 149,  40,\n",
       "       207, 269, 137, 240, 150, 258, 209, 114,  78, 259, 138,  16,  79,\n",
       "       173,  25, 161, 241, 279, 260, 129,  58, 271, 130, 171, 178,  41,\n",
       "       224, 223, 242, 261,  80, 225, 210,  41, 194, 249, 148,  41,  44,\n",
       "        61,  59, 250,  41, 131,  41,  81,  82, 243, 273, 195,  96, 154,\n",
       "         3,  51,  83,  40, 226, 151, 251,   1, 109,  97,  41,  67,  46,\n",
       "        32,  84, 176,  29, 115,  41, 196,  35, 274, 197,   6, 276,  98,\n",
       "        68, 111,  39, 152,  41, 140, 227,  62, 110,  99, 262, 228, 141,\n",
       "       244, 252, 211,  47,  41, 213, 166,  27,   4,  63,  33, 263,  85,\n",
       "        19,  86, 155, 156,  20, 100, 177, 198, 229, 212, 142,  38, 214,\n",
       "        41,   9,  28, 245,  41, 182,  17,  69, 230, 200,  48, 132, 236,\n",
       "        41, 101, 266, 102,  41, 186,  88,  18,  41, 179, 215,  49, 103,\n",
       "       232,  26, 133, 180,  89,   8, 143, 278,  90, 157,  10, 181, 134,\n",
       "       104, 158, 231, 144, 267, 246, 184,  91,  39, 145, 112, 237, 117,\n",
       "        52,  15,  41, 105, 280, 253, 268, 233, 135,  92,  11, 159,  36,\n",
       "       201, 106,  64,  41, 185, 160, 118, 162, 275, 234,  93, 163, 187,\n",
       "        41, 254,  65, 119, 188, 202,  41, 107,   2, 172,  94,  34, 164,\n",
       "       146, 189,  30, 216, 203, 255,  41,  12, 120, 204], dtype=int32)"
      ]
     },
     "execution_count": 381,
     "metadata": {},
     "output_type": "execute_result"
    }
   ],
   "source": [
    "clusters"
   ]
  },
  {
   "cell_type": "code",
   "execution_count": 387,
   "metadata": {
    "collapsed": true
   },
   "outputs": [],
   "source": [
    "def cluster_docs(clusters):\n",
    "    \"\"\"\n",
    "    This method builds the list of documents present on each cluster.\n",
    "    \"\"\"\n",
    "    cdocs = dict()\n",
    "    for cluster in set(clusters):\n",
    "        docs_in_cluster = [i for i,val in enumerate(clusters) if val==cluster]\n",
    "        cdocs.setdefault(cluster, []).append(docs_in_cluster)\n",
    "    return(cdocs)\n",
    "\n",
    "def extract_words(vector):\n",
    "    \"\"\"\n",
    "    From a list of word IDs, this method extract the words from the dictionary\n",
    "    \"\"\"\n",
    "    words = []\n",
    "    [ words.append(dictionary.get(value)) if value is not -1 else '' for value in vector.tolist()[0] ]\n",
    "    return (words)"
   ]
  },
  {
   "cell_type": "code",
   "execution_count": 388,
   "metadata": {
    "collapsed": true
   },
   "outputs": [],
   "source": [
    "docs_in_cluster = cluster_docs(clusters)"
   ]
  },
  {
   "cell_type": "code",
   "execution_count": 389,
   "metadata": {},
   "outputs": [
    {
     "name": "stdout",
     "output_type": "stream",
     "text": [
      "[[1, 2, 11, 15, 25, 36, 79, 116, 124, 128, 133, 135, 153, 161, 173, 186, 208, 212, 221, 225, 229, 262, 276, 286, 292, 305]]\n",
      "CLSTR# 1 -> ['contrat', 'medic', 'segur']\n",
      "CLSTR# 2 -> ['contrat', 'dental', 'segur']\n",
      "CLSTR# 11 -> ['contrat', 'dental']\n",
      "CLSTR# 15 -> ['basic', 'diferent']\n",
      "CLSTR# 25 -> ['contrat', 'segur']\n",
      "CLSTR# 36 -> ['preci', 'segur']\n",
      "CLSTR# 79 -> ['copag', 'diferent', 'primer']\n",
      "CLSTR# 116 -> ['alta', 'prueb']\n",
      "CLSTR# 124 -> ['cobertur', 'envi', 'plus']\n",
      "CLSTR# 128 -> ['preci', 'segur']\n",
      "CLSTR# 133 -> ['cubr', 'mes', 'segur']\n",
      "CLSTR# 135 -> ['hij', 'poliz']\n",
      "CLSTR# 153 -> ['person', 'segur']\n",
      "CLSTR# 161 -> ['basic', 'carenci', 'period']\n",
      "CLSTR# 173 -> ['cobertur', 'extranjer', 'multi']\n",
      "CLSTR# 186 -> ['asegur', 'poliz']\n",
      "CLSTR# 208 -> ['años', 'dental', 'segur']\n",
      "CLSTR# 212 -> ['niñ', 'preci']\n",
      "CLSTR# 221 -> ['juli', 'niñ', 'permanent']\n",
      "CLSTR# 225 -> ['asegur', 'cubiert']\n",
      "CLSTR# 229 -> ['cas', 'interes']\n",
      "CLSTR# 262 -> ['client', 'consult', 'dental']\n",
      "CLSTR# 276 -> ['cobertur', 'dud']\n",
      "CLSTR# 286 -> ['acced', 'tarjet']\n",
      "CLSTR# 292 -> ['cost', 'mensual']\n",
      "CLSTR# 305 -> ['derech', 'medic']\n"
     ]
    }
   ],
   "source": [
    "print(docs_in_cluster.get(41))\n",
    "seek_docs = docs_in_cluster.get(41)\n",
    "for d in seek_docs[0]:\n",
    "    print(\"CLSTR#\",d,\"->\",sorted(extract_words(X[d])))"
   ]
  },
  {
   "cell_type": "code",
   "execution_count": null,
   "metadata": {
    "collapsed": true
   },
   "outputs": [],
   "source": []
  }
 ],
 "metadata": {
  "kernelspec": {
   "display_name": "Python 3",
   "language": "python",
   "name": "python3"
  },
  "language_info": {
   "codemirror_mode": {
    "name": "ipython",
    "version": 3
   },
   "file_extension": ".py",
   "mimetype": "text/x-python",
   "name": "python",
   "nbconvert_exporter": "python",
   "pygments_lexer": "ipython3",
   "version": "3.5.3"
  }
 },
 "nbformat": 4,
 "nbformat_minor": 2
}
